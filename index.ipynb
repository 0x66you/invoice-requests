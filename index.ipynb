{
 "cells": [
  {
   "cell_type": "code",
   "execution_count": 1,
   "metadata": {},
   "outputs": [
    {
     "name": "stdout",
     "output_type": "stream",
     "text": [
      "                          Numbers                                    Info\n",
      "Prize                                                                    \n",
      "特別獎                      31150905         同期統一發票收執聯8位數號碼與上列號碼相同者獎金1,000萬元\n",
      "特獎                       28564531           同期統一發票收執聯8位數號碼與上列號碼相同者獎金200萬元\n",
      "頭獎     05754219、52891675、45327106            同期統一發票收執聯8位數號碼與上列號碼相同者獎金20萬元\n",
      "二獎                            N/A   同期統一發票收執聯末7 位數號碼與頭獎中獎號碼末7位相同者各得獎金4 萬元\n",
      "三獎                            N/A   同期統一發票收執聯末6 位數號碼與頭獎中獎號碼末6位相同者各得獎金1 萬元\n",
      "四獎                            N/A   同期統一發票收執聯末5 位數號碼與頭獎中獎號碼末5位相同者各得獎金4 千元\n",
      "五獎                            N/A  同期統一發票收執聯末4 位數號碼與頭獎中獎號碼末4位相同者各得獎金 1 千元\n",
      "六獎                            N/A  同期統一發票收執聯末3 位數號碼與頭獎中獎號碼末3位相同者各得獎金 2 百元\n",
      "增開六獎                          252       同期統一發票收執聯末3 位數號碼與上列號碼相同者各得獎金 2 百元\n"
     ]
    }
   ],
   "source": [
    "import requests\n",
    "from bs4 import BeautifulSoup\n",
    "import pandas as pd\n",
    "USER_OPTION = \"10911\"\n",
    "headers = {\"user-agent\":\"Mozilla/5.0 (Macintosh; Intel Mac OS X 10_15_7) AppleWebKit/537.36 (KHTML, like Gecko) Chrome/99.0.4844.51 Safari/537.36\"}\n",
    "payload = {\n",
    "    \"id\": USER_OPTION\n",
    "}\n",
    "# res = requests.get(\"https://tools.pgl823.com/invoice.php\",headers=headers)\n",
    "res = requests.post(\"https://tools.pgl823.com/invoice.php\",headers=headers,data=payload)\n",
    "if res.status_code == requests.codes.OK:\n",
    "    soup = BeautifulSoup(res.text,\"lxml\")\n",
    "    table = soup.find(\"table\",class_=\"auto-style4\")\n",
    "    tr = table.find_all(\"tr\")\n",
    "    index = []\n",
    "    columns = [\"Numbers\",\"Info\"]\n",
    "    data = []\n",
    "    for d in tr[2:]:\n",
    "        title = d.find_all(\"td\")[0].text\n",
    "        body = d.find_all(\"td\")[1].text\n",
    "        index.append(title)\n",
    "        if body.startswith(\"\\n\"):\n",
    "            temp = body.split(\"\\n\")\n",
    "            # print(temp)\n",
    "            temp_body = [' '.join(temp[1:-1]),temp[-1]]\n",
    "            data.append(temp_body)\n",
    "        else:\n",
    "            data.append([\"N/A\",body.replace(\" \\n\\t\\t\",\"\")])\n",
    "\n",
    "    \n",
    "    df = pd.DataFrame(data=data,columns=columns,index=index)\n",
    "    df.index.name=\"Prize\"\n",
    "    print(df)"
   ]
  }
 ],
 "metadata": {
  "interpreter": {
   "hash": "16ec9f2a2818a505407c389015484c56ff7ce15747e30261c04d4bcb08401012"
  },
  "kernelspec": {
   "display_name": "Python 3.9.9 ('.venv': venv)",
   "language": "python",
   "name": "python3"
  },
  "language_info": {
   "codemirror_mode": {
    "name": "ipython",
    "version": 3
   },
   "file_extension": ".py",
   "mimetype": "text/x-python",
   "name": "python",
   "nbconvert_exporter": "python",
   "pygments_lexer": "ipython3",
   "version": "3.9.9"
  },
  "orig_nbformat": 4
 },
 "nbformat": 4,
 "nbformat_minor": 2
}
